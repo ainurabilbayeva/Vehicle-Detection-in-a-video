{
 "cells": [
  {
   "cell_type": "code",
   "execution_count": 1,
   "id": "182c0936",
   "metadata": {},
   "outputs": [],
   "source": [
    "import cv2"
   ]
  },
  {
   "cell_type": "code",
   "execution_count": 2,
   "id": "cddd7197",
   "metadata": {},
   "outputs": [],
   "source": [
    "# capture frames from a video \n",
    "# replace the file name string with your file path\n",
    "filename = '/Users/ainurabilbayeva/Desktop/ENCE 688V/Projects/Project II/Source Code/surveillance.m4v'\n",
    "cap = cv2.VideoCapture(filename) "
   ]
  },
  {
   "cell_type": "code",
   "execution_count": 3,
   "id": "12f191ae",
   "metadata": {},
   "outputs": [],
   "source": [
    "# Trained XML classifiers describes some features of some object we want to detect \n",
    "# see https://docs.opencv.org/3.4/db/d28/tutorial_cascade_classifier.html\n",
    "# note that this file can be modified with any text editor such as VSCode, Notepad\n",
    "car_cascade = cv2.CascadeClassifier('cars.xml') "
   ]
  },
  {
   "cell_type": "code",
   "execution_count": 4,
   "id": "e818b748",
   "metadata": {},
   "outputs": [
    {
     "ename": "error",
     "evalue": "OpenCV(3.4.2) /opt/concourse/worker/volumes/live/9523d527-1b9e-48e0-7ed0-a36adde286f0/volume/opencv-suite_1535558719691/work/modules/imgproc/src/color.hpp:253: error: (-215:Assertion failed) VScn::contains(scn) && VDcn::contains(dcn) && VDepth::contains(depth) in function 'CvtHelper'\n",
     "output_type": "error",
     "traceback": [
      "\u001b[0;31m---------------------------------------------------------------------------\u001b[0m",
      "\u001b[0;31merror\u001b[0m                                     Traceback (most recent call last)",
      "\u001b[0;32m/var/folders/tk/xll9h7jn30vg_kf7yspqqqdm0000gn/T/ipykernel_90217/3867088850.py\u001b[0m in \u001b[0;36m<module>\u001b[0;34m\u001b[0m\n\u001b[1;32m      8\u001b[0m \u001b[0;34m\u001b[0m\u001b[0m\n\u001b[1;32m      9\u001b[0m     \u001b[0;31m# convert to gray scale of each frames\u001b[0m\u001b[0;34m\u001b[0m\u001b[0;34m\u001b[0m\u001b[0;34m\u001b[0m\u001b[0m\n\u001b[0;32m---> 10\u001b[0;31m     \u001b[0mgray\u001b[0m \u001b[0;34m=\u001b[0m \u001b[0mcv2\u001b[0m\u001b[0;34m.\u001b[0m\u001b[0mcvtColor\u001b[0m\u001b[0;34m(\u001b[0m\u001b[0mframes\u001b[0m\u001b[0;34m,\u001b[0m \u001b[0mcv2\u001b[0m\u001b[0;34m.\u001b[0m\u001b[0mCOLOR_BGR2GRAY\u001b[0m\u001b[0;34m)\u001b[0m\u001b[0;34m\u001b[0m\u001b[0;34m\u001b[0m\u001b[0m\n\u001b[0m\u001b[1;32m     11\u001b[0m \u001b[0;34m\u001b[0m\u001b[0m\n\u001b[1;32m     12\u001b[0m     \u001b[0;31m# step 3-----------------------------------------------\u001b[0m\u001b[0;34m\u001b[0m\u001b[0;34m\u001b[0m\u001b[0;34m\u001b[0m\u001b[0m\n",
      "\u001b[0;31merror\u001b[0m: OpenCV(3.4.2) /opt/concourse/worker/volumes/live/9523d527-1b9e-48e0-7ed0-a36adde286f0/volume/opencv-suite_1535558719691/work/modules/imgproc/src/color.hpp:253: error: (-215:Assertion failed) VScn::contains(scn) && VDcn::contains(dcn) && VDepth::contains(depth) in function 'CvtHelper'\n"
     ]
    }
   ],
   "source": [
    "# counter of vehicles\n",
    "counter = 0\n",
    "# loop runs if capturing has been initialized. \n",
    "while True: \n",
    "    # step 2 -----------------------------------------------\n",
    "    # read a frame from the video \n",
    "    ret, frames = cap.read() \n",
    "\n",
    "    # convert to gray scale of each frames \n",
    "    gray = cv2.cvtColor(frames, cv2.COLOR_BGR2GRAY) \n",
    "    \n",
    "    # step 3-----------------------------------------------\n",
    "    # detection algorithm\n",
    "    # Detects cars of different sizes in the input image \n",
    "    cars = car_cascade.detectMultiScale(gray, 1.1, 1) \n",
    "\n",
    "    # To draw a rectangle in each cars \n",
    "    # we may also save the recognized cars into a csv/text file for offline post-processing\n",
    "    # x,y are coordinates, w,h are width and height, respectively\n",
    "    for (x,y,w,h) in cars: \n",
    "        # draw a rectangle top-left corner (x,y) and bottom-right corner (x+w, y+h) of rectangle\n",
    "        # see https://opencv-python-tutroals.readthedocs.io/en/latest/py_tutorials/py_gui/py_drawing_functions/py_drawing_functions.html\n",
    "        cv2.rectangle(frames,(x,y),(x+w,y+h),(0,0,255),2) \n",
    "    # calculate the lane of the vehicle and the number of vehicles passing the line\n",
    "    # postprocess the location and shape of vehicles by (x,y,w,h) \n",
    "    # design your algorithm to improve the accuracy\n",
    "    line_y = 280\n",
    "    for (x,y,w,h) in cars:\n",
    "        # to improve, also check the existing cars to avoid replication\n",
    "        if line_y-5<y+h/2<line_y+5:\n",
    "            counter+=1       \n",
    "\n",
    "    \n",
    "    # add more conditions, such as lane\n",
    "    \n",
    "    # draw lane or virtual loop\n",
    "    \n",
    "    # step4 ----------------------------------------------\n",
    "    # draw text to display the number of counts\n",
    "    # font \n",
    "    font = cv2.FONT_HERSHEY_SIMPLEX \n",
    "\n",
    "    # org \n",
    "    org = (50, 50) \n",
    "\n",
    "    # fontScale \n",
    "    fontScale = 1\n",
    "\n",
    "    # blue color in BGR \n",
    "    color = (255, 0, 0) \n",
    "\n",
    "    # line thickness of 2 px \n",
    "    thickness = 2\n",
    "\n",
    "    # Using cv2.putText() method to draw \n",
    "    # see https://www.geeksforgeeks.org/python-opencv-cv2-puttext-method/\n",
    "    text = 'num vehs: ' + str(counter)\n",
    "    frames = cv2.putText(frames, text, org, font, fontScale, color, thickness, cv2.LINE_AA)\n",
    "    \n",
    "    # draw the line\n",
    "    frames = cv2.line(frames, (0,line_y), (640,line_y), (255,0,0),1)\n",
    "    \n",
    "    # step 5-------------------------------------------------\n",
    "    # Display frames in a window called video1\n",
    "    cv2.imshow('video1', frames) \n",
    "    \n",
    "    # Wait for Esc key to stop \n",
    "    # 27 is the key code of Esc, 33 is the waiting duration in milliseconds\n",
    "    if cv2.waitKey(33) == 27: \n",
    "        break\n",
    "  \n",
    "# De-allocate any associated memory usage \n",
    "cv2.destroyAllWindows() "
   ]
  },
  {
   "cell_type": "code",
   "execution_count": null,
   "id": "32fad2c8",
   "metadata": {},
   "outputs": [],
   "source": []
  }
 ],
 "metadata": {
  "kernelspec": {
   "display_name": "Python 3 (ipykernel)",
   "language": "python",
   "name": "python3"
  },
  "language_info": {
   "codemirror_mode": {
    "name": "ipython",
    "version": 3
   },
   "file_extension": ".py",
   "mimetype": "text/x-python",
   "name": "python",
   "nbconvert_exporter": "python",
   "pygments_lexer": "ipython3",
   "version": "3.7.7"
  }
 },
 "nbformat": 4,
 "nbformat_minor": 5
}

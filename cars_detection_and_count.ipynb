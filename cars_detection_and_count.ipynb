{
 "cells": [
  {
   "cell_type": "code",
   "execution_count": 2,
   "id": "ad439b2d",
   "metadata": {},
   "outputs": [],
   "source": [
    "import cv2\n",
    "\n",
    "# Load the cascade classifier for vehicle detection\n",
    "car_cascade = cv2.CascadeClassifier('cars.xml')\n",
    "\n",
    "# Open the video capture\n",
    "filename = '/Users/ainurabilbayeva/Desktop/Documents/drive/uni courses all/Fall 2022/ENCE 688V/Projects/Project II/Source Code/surveillance.m4v'\n",
    "cap = cv2.VideoCapture(filename)\n",
    "\n",
    "# Initialize variables\n",
    "counter = 0\n",
    "line_y = 280\n",
    "\n",
    "while True:\n",
    "    # Read a frame from the video\n",
    "    ret, frame = cap.read()\n",
    "    \n",
    "    if not ret:\n",
    "        break\n",
    "    \n",
    "    # Convert the frame to grayscale for faster processing\n",
    "    gray = cv2.cvtColor(frame, cv2.COLOR_BGR2GRAY)\n",
    "    \n",
    "    # Detect vehicles\n",
    "    cars = car_cascade.detectMultiScale(gray, scaleFactor=1.1, minNeighbors=1, minSize=(30, 30))\n",
    "    \n",
    "    # Draw rectangles around detected vehicles\n",
    "    for (x, y, w, h) in cars:\n",
    "        cv2.rectangle(frame, (x, y), (x + w, y + h), (0, 0, 255), 2)\n",
    "        \n",
    "        # Check if a vehicle passes the line\n",
    "        if line_y - 5 < y + h / 2 < line_y + 5:\n",
    "            counter += 1\n",
    "    \n",
    "    # Display the vehicle count and line\n",
    "    cv2.putText(frame, f'Num Vehicles: {counter}', (50, 50), cv2.FONT_HERSHEY_SIMPLEX, 1, (255, 0, 0), 2)\n",
    "    cv2.line(frame, (0, line_y), (frame.shape[1], line_y), (255, 0, 0), 1)\n",
    "    \n",
    "    # Display the processed frame\n",
    "    cv2.imshow('Vehicle Detection', frame)\n",
    "    \n",
    "    # Exit loop on 'Esc' key press\n",
    "    if cv2.waitKey(33) == 27:\n",
    "        break\n",
    "\n",
    "# Release the video capture and close windows\n",
    "cap.release()\n",
    "cv2.destroyAllWindows()\n"
   ]
  },
  {
   "cell_type": "code",
   "execution_count": null,
   "id": "a98d5ff1",
   "metadata": {},
   "outputs": [],
   "source": []
  }
 ],
 "metadata": {
  "kernelspec": {
   "display_name": "py",
   "language": "python",
   "name": "myenv"
  },
  "language_info": {
   "codemirror_mode": {
    "name": "ipython",
    "version": 3
   },
   "file_extension": ".py",
   "mimetype": "text/x-python",
   "name": "python",
   "nbconvert_exporter": "python",
   "pygments_lexer": "ipython3",
   "version": "3.8.15"
  }
 },
 "nbformat": 4,
 "nbformat_minor": 5
}
